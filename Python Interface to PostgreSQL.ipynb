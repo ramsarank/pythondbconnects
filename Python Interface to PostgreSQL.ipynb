{
 "cells": [
  {
   "cell_type": "markdown",
   "metadata": {},
   "source": [
    "___"
   ]
  },
  {
   "cell_type": "markdown",
   "metadata": {},
   "source": [
    "# Python Interface with PostgreSQL\n",
    "\n",
    "Let us understand how to connect to PostgreSQL from Python and access the data for processing"
   ]
  },
  {
   "cell_type": "markdown",
   "metadata": {},
   "source": [
    "Psycopg is the most popular PostgreSQL adapter for the Python programming language. Several extensions allow access to many of the features offered by PostgreSQL. The main entry points for of psycopg are:\n",
    "\n",
    "* The function **connect()** creates a new database session and returns a new connection instance\n",
    "* The class connection encapsulates a database session. It allows to:\n",
    "    * Create new cursor instances using the **cursor()** method to execute database commands and queries\n",
    "    * Terminate transactions using the methods **commit()** or **rollback()**\n",
    "* The class cursor allows interaction with the database\n",
    "    * Send commands to the database using methods such as **execute()** and **executemany()**\n",
    "    * Retrieve data from the database by iteration or using methods such as **fetchone(), fetchmany(), fetchall()**\n",
    "\n",
    "___"
   ]
  },
  {
   "cell_type": "markdown",
   "metadata": {},
   "source": [
    "Let's get our environment ready with the libraries we need and then work with data:\n",
    "### Import Libraries"
   ]
  },
  {
   "cell_type": "code",
   "execution_count": 1,
   "metadata": {},
   "outputs": [],
   "source": [
    "import psycopg2\n",
    "import pandas as pd"
   ]
  },
  {
   "cell_type": "markdown",
   "metadata": {},
   "source": [
    "___\n",
    "Let us first connect to the database by creating an object \"conn\""
   ]
  },
  {
   "cell_type": "code",
   "execution_count": 10,
   "metadata": {},
   "outputs": [],
   "source": [
    "conn = psycopg2.connect(dbname=\"test\", user=\"postgres\",password=\"password\")\n",
    "cur = conn.cursor()"
   ]
  },
  {
   "cell_type": "markdown",
   "metadata": {},
   "source": [
    "### CREATE Table\n",
    "Create a \"cur\" object, then Create a Table \"links\" and then commit"
   ]
  },
  {
   "cell_type": "code",
   "execution_count": 11,
   "metadata": {},
   "outputs": [],
   "source": [
    "cur.execute('''CREATE TABLE links (\n",
    "    id serial PRIMARY KEY,\n",
    "    url varchar(255) NOT NULL,\n",
    "    name varchar(255) NOT NULL,\n",
    "    description varchar(255),\n",
    "    rel varchar(10),\n",
    "    last_update date DEFAULT now()\n",
    ");''')\n",
    "conn.commit()"
   ]
  },
  {
   "cell_type": "markdown",
   "metadata": {},
   "source": [
    "### INSERT Data\n",
    "Create a \"cur\" object, then Insert Data in to the table links and then commit"
   ]
  },
  {
   "cell_type": "code",
   "execution_count": null,
   "metadata": {},
   "outputs": [],
   "source": [
    "cur.execute(\"INSERT INTO links (id,url,name,description,rel,last_update) VALUES (1, 'https://www.postgresql.org/download/','Download Section','Install the setup', 'follow', '2020-06-02')\");\n",
    "cur.execute(\"INSERT INTO links (id,url,name,description,rel,last_update) VALUES (2, 'http://www.oreilly.com', 'O''Reilly Media', 'O''Reilly Media', 'nofollow', '2020-06-02')\");\n",
    "cur.execute(\"INSERT INTO links (id,url,name,description,rel,last_update) VALUES (3, 'http://www.google.com', 'Google', 'Google', 'nofollow', '2020-06-02')\");\n",
    "cur.execute(\"INSERT INTO links (id,url,name,description,rel,last_update) VALUES (4, 'http://www.yahoo.com', 'Yahoo', 'Yahoo', 'nofollow', '2020-06-02')\");\n",
    "cur.execute(\"INSERT INTO links (id,url,name,description,rel,last_update) VALUES (5, 'http://www.bing.com', 'Bing', 'Bing', 'nofollow', '2020-06-02')\");\n",
    "cur.execute(\"INSERT INTO links (id,url,name,description,rel,last_update) VALUES (6, 'http://www.facebook.com', 'Facebook', 'Facebook', 'nofollow', '2020-06-01')\");\n",
    "cur.execute(\"INSERT INTO links (id,url,name,description,rel,last_update) VALUES (7, 'https://www.tumblr.com/', 'Tumblr', 'Tumblr', 'nofollow', '2020-06-02')\");\n",
    "cur.execute(\"INSERT INTO links (id,url,name,description,rel,last_update) VALUES (8, 'http://www.postgresql.org', 'PostgreSQL', 'PostgreSQL', 'nofollow', '2020-06-02')\");\n",
    "\n",
    "conn.commit()"
   ]
  },
  {
   "cell_type": "markdown",
   "metadata": {},
   "source": [
    "### SELECT Query\n",
    "Create \"cur\" object, select all the data from the table"
   ]
  },
  {
   "cell_type": "code",
   "execution_count": null,
   "metadata": {},
   "outputs": [],
   "source": [
    "cur.execute(\"SELECT * FROM links;\")\n",
    "links = pd.DataFrame(cur.fetchall())"
   ]
  },
  {
   "cell_type": "code",
   "execution_count": null,
   "metadata": {},
   "outputs": [],
   "source": [
    "links.head(10)"
   ]
  },
  {
   "cell_type": "code",
   "execution_count": null,
   "metadata": {},
   "outputs": [],
   "source": [
    "links.info()"
   ]
  },
  {
   "cell_type": "markdown",
   "metadata": {},
   "source": [
    "#### SELECT Query - Column Names of the Table"
   ]
  },
  {
   "cell_type": "code",
   "execution_count": null,
   "metadata": {},
   "outputs": [],
   "source": [
    "cur.execute(\"select column_name from information_schema.columns where table_name = 'links'\")"
   ]
  },
  {
   "cell_type": "markdown",
   "metadata": {},
   "source": [
    "create a dataframe with column names fetched"
   ]
  },
  {
   "cell_type": "code",
   "execution_count": null,
   "metadata": {},
   "outputs": [],
   "source": [
    "colnames = cur.fetchall()\n",
    "conn.close()\n",
    "cur.close()"
   ]
  },
  {
   "cell_type": "code",
   "execution_count": null,
   "metadata": {},
   "outputs": [],
   "source": [
    "colnames"
   ]
  },
  {
   "cell_type": "markdown",
   "metadata": {},
   "source": [
    "Let us make the column names with clean names"
   ]
  },
  {
   "cell_type": "code",
   "execution_count": null,
   "metadata": {},
   "outputs": [],
   "source": [
    "colnames = ['id','url','name','description','rel','last_update']\n",
    "links.columns = colnames\n",
    "links.head(10)"
   ]
  },
  {
   "cell_type": "markdown",
   "metadata": {},
   "source": [
    "___"
   ]
  },
  {
   "cell_type": "markdown",
   "metadata": {},
   "source": [
    "### Update Statement"
   ]
  },
  {
   "cell_type": "code",
   "execution_count": null,
   "metadata": {},
   "outputs": [],
   "source": [
    "conn = psycopg2.connect(dbname=\"test\", user=\"postgres\",password=\"data259\")\n",
    "print(\"Connected to database successfully\")"
   ]
  },
  {
   "cell_type": "markdown",
   "metadata": {},
   "source": [
    "Execute update statement"
   ]
  },
  {
   "cell_type": "code",
   "execution_count": null,
   "metadata": {},
   "outputs": [],
   "source": [
    "cur = conn.cursor()\n",
    "cur.execute(\"UPDATE links set rel = 'follow' where id = 2\")\n",
    "conn.commit()\n",
    "\n",
    "print(\"Total nubmber of Rows updated\", cur.rowcount)"
   ]
  },
  {
   "cell_type": "markdown",
   "metadata": {},
   "source": [
    "Select the data"
   ]
  },
  {
   "cell_type": "code",
   "execution_count": null,
   "metadata": {},
   "outputs": [],
   "source": [
    "cur.execute(\"SELECT * FROM links;\")\n",
    "links = pd.DataFrame(cur.fetchall())\n",
    "conn.close()\n",
    "cur.close()\n",
    "\n",
    "\n",
    "links.head(10)"
   ]
  },
  {
   "cell_type": "markdown",
   "metadata": {},
   "source": [
    "___\n",
    "### DELETE Statement"
   ]
  },
  {
   "cell_type": "code",
   "execution_count": null,
   "metadata": {},
   "outputs": [],
   "source": [
    "conn = psycopg2.connect(dbname=\"test\", user=\"postgres\",password=\"data259\")\n",
    "print(\"Connected to database successfully\")"
   ]
  },
  {
   "cell_type": "markdown",
   "metadata": {},
   "source": [
    "Delete a record:"
   ]
  },
  {
   "cell_type": "code",
   "execution_count": null,
   "metadata": {},
   "outputs": [],
   "source": [
    "cur = conn.cursor()\n",
    "cur.execute(\"DELETE from links where ID=5;\")\n",
    "conn.commit()\n",
    "\n",
    "print(\"Total number of rows deleted: \",cur.rowcount)"
   ]
  },
  {
   "cell_type": "markdown",
   "metadata": {},
   "source": [
    "Select the records to verify"
   ]
  },
  {
   "cell_type": "code",
   "execution_count": null,
   "metadata": {},
   "outputs": [],
   "source": [
    "cur.execute(\"SELECT * FROM links;\")\n",
    "links = pd.DataFrame(cur.fetchall())\n",
    "conn.close()\n",
    "cur.close()\n",
    "\n",
    "\n",
    "links.head(10)"
   ]
  },
  {
   "cell_type": "markdown",
   "metadata": {},
   "source": [
    "___\n",
    "___"
   ]
  }
 ],
 "metadata": {
  "kernelspec": {
   "display_name": "Python 3",
   "language": "python",
   "name": "python3"
  },
  "language_info": {
   "codemirror_mode": {
    "name": "ipython",
    "version": 3
   },
   "file_extension": ".py",
   "mimetype": "text/x-python",
   "name": "python",
   "nbconvert_exporter": "python",
   "pygments_lexer": "ipython3",
   "version": "3.7.6"
  }
 },
 "nbformat": 4,
 "nbformat_minor": 4
}
